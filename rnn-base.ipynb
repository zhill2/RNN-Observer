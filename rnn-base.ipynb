{
 "cells": [
  {
   "cell_type": "code",
   "execution_count": 1,
   "metadata": {},
   "outputs": [],
   "source": [
    "using Flux\n",
    "using DifferentialEquations\n",
    "using Plots"
   ]
  },
  {
   "cell_type": "markdown",
   "metadata": {},
   "source": [
    "Define the neural network structure\n",
    "\n",
    "*Need to iterate through different structures"
   ]
  },
  {
   "cell_type": "code",
   "execution_count": 2,
   "metadata": {},
   "outputs": [
    {
     "data": {
      "text/plain": [
       "Chain(Recur(LSTMCell(4, 256)), Recur(LSTMCell(256, 256)), Recur(LSTMCell(256, 4)))"
      ]
     },
     "execution_count": 2,
     "metadata": {},
     "output_type": "execute_result"
    }
   ],
   "source": [
    "N = 4 #x,theta,dx,dtheta\n",
    "m = Chain(LSTM(N,256),LSTM(256,256),LSTM(256,N))"
   ]
  },
  {
   "cell_type": "markdown",
   "metadata": {},
   "source": [
    "Develop the data for testing the system\n",
    "\n",
    "Is this how it should be setup?\n",
    "\n",
    "How do I train on-line?"
   ]
  },
  {
   "cell_type": "code",
   "execution_count": 3,
   "metadata": {},
   "outputs": [
    {
     "data": {
      "text/plain": [
       "85-element Array{Tuple{Array{Float64,1},Array{Float64,1}},1}:\n",
       " ([0.0, 0.785398, 0.0, 0.0], [-1.54447e-8, 0.785399, 0.0, 0.000998729])              \n",
       " ([-1.54447e-8, 0.785399, 0.0, 0.000998729], [-1.86877e-6, 0.785447, 0.0, 0.0109862])\n",
       " ([-1.86877e-6, 0.785447, 0.0, 0.0109862], [-0.000189852, 0.79037, 0.0, 0.111063])   \n",
       " ([-0.000189852, 0.79037, 0.0, 0.111063], [-0.00361234, 0.886194, 0.0, 0.513195])    \n",
       " ([-0.00361234, 0.886194, 0.0, 0.513195], [-0.0133798, 1.31552, 0.0, 1.27747])       \n",
       " ([-0.0133798, 1.31552, 0.0, 1.27747], [0.00911104, 2.56782, 0.0, 2.27344])          \n",
       " ([0.00911104, 2.56782, 0.0, 2.27344], [0.0846933, 3.93696, 0.0, 2.19129])           \n",
       " ([0.0846933, 3.93696, 0.0, 2.19129], [0.0963494, 5.05847, 0.0, 1.138])              \n",
       " ([0.0963494, 5.05847, 0.0, 1.138], [0.0849616, 5.47931, 0.0, 0.155632])             \n",
       " ([0.0849616, 5.47931, 0.0, 0.155632], [0.0953078, 5.10864, 0.0, -1.06165])          \n",
       " ([0.0953078, 5.10864, 0.0, -1.06165], [0.0823371, 3.87847, 0.0, -2.21511])          \n",
       " ([0.0823371, 3.87847, 0.0, -2.21511], [-0.00704733, 2.15173, 0.0, -2.07903])        \n",
       " ([-0.00704733, 2.15173, 0.0, -2.07903], [-0.0126404, 1.24657, 0.0, -1.15683])       \n",
       " ⋮                                                                                   \n",
       " ([0.0686902, 3.61678, 0.0, -2.25159], [-0.0100182, 2.08968, 0.0, -1.99193])         \n",
       " ([-0.0100182, 2.08968, 0.0, -1.99193], [-0.0132463, 1.20455, 0.0, -1.00036])        \n",
       " ([-0.0132463, 1.20455, 0.0, -1.00036], [-0.00511743, 0.885774, 0.0, -0.142437])     \n",
       " ([-0.00511743, 0.885774, 0.0, -0.142437], [-0.011852, 1.13386, 0.0, 0.875585])      \n",
       " ([-0.011852, 1.13386, 0.0, 0.875585], [-0.00755856, 2.17965, 0.0, 2.05031])         \n",
       " ([-0.00755856, 2.17965, 0.0, 2.05031], [0.0629853, 3.51087, 0.0, 2.26909])          \n",
       " ([0.0629853, 3.51087, 0.0, 2.26909], [0.0976161, 4.61378, 0.0, 1.62616])            \n",
       " ([0.0976161, 4.61378, 0.0, 1.62616], [0.0889692, 5.31877, 0.0, 0.501593])           \n",
       " ([0.0889692, 5.31877, 0.0, 0.501593], [0.0910155, 5.23795, 0.0, -0.704295])         \n",
       " ([0.0910155, 5.23795, 0.0, -0.704295], [0.084579, 3.96808, 0.0, -2.13168])          \n",
       " ([0.084579, 3.96808, 0.0, -2.13168], [-0.00986845, 2.10632, 0.0, -1.99791])         \n",
       " ([-0.00986845, 2.10632, 0.0, -1.99791], [-0.0130281, 1.17865, 0.0, -0.943835])      "
      ]
     },
     "execution_count": 3,
     "metadata": {},
     "output_type": "execute_result"
    }
   ],
   "source": [
    "function cart(du,u,p,t)\n",
    "\n",
    "    m = 2\n",
    "    g = 9.81\n",
    "    l = 0.5\n",
    "    M = 5\n",
    "    J_G = 1/12*m*l^2\n",
    "    f(u,t) = 0\n",
    "    torque(u,t) = 0\n",
    "\n",
    "    du[1] = (J_G*u[3] + l^2*m*u[3] - l*m*u[4]*cos(u[2]))/(J_G*M + J_G*m + M*l^2*m + l^2*m^2*sin(u[2])^2)\n",
    "    du[2] = M*u[4] - l*m*u[3]*cos(u[2]) + m*u[4]/(J_G*M + J_G*m + M*l^2*m + l^2*m^2*sin(u[2])^2)\n",
    "    du[3] = f(u,t)\n",
    "    du[4] = 2*l^2*m^2*(J_G*M*g*l*m*cos(u[2]) + J_G*g*l*m^2*cos(u[2]) + J_G*u[3]^2/2 + M*g*l^3*m^2*cos(u[2]) + M*u[4]^2/2 - g*l^3*m^3*cos(u[2])^3 + g*l^3*m^3*cos(u[2]) + l^2*m*u[3]^2/2 - l*m*u[3]*u[4]*cos(u[2]) + m*u[4]^2/2)*sin(u[2])*cos(u[2])/(J_G*M + J_G*m + M*l^2*m + l^2*m^2*sin(u[2])^2)^2 + torque(u,t) - (-J_G*M*g*l*m*sin(u[2]) - J_G*g*l*m^2*sin(u[2]) - M*g*l^3*m^2*sin(u[2]) + 3*g*l^3*m^3*sin(u[2])*cos(u[2])^2 - g*l^3*m^3*sin(u[2]) + l*m*u[3]*u[4]*sin(u[2]))/(J_G*M + J_G*m + M*l^2*m + l^2*m^2*sin(u[2])^2)\n",
    "\n",
    "end\n",
    "\n",
    "t0 = 0.0\n",
    "tf = 10.0\n",
    "tspan = (t0,tf)\n",
    "\n",
    "u0 = [0.0, 45*π/180, 0.0, 0.0]\n",
    "\n",
    "prob = ODEProblem(cart,u0,tspan)\n",
    "sol = solve(prob,DP5())\n",
    "data = [ (sol[i], sol[i+1]) for i in 1:(length(sol)-1) ]"
   ]
  },
  {
   "cell_type": "markdown",
   "metadata": {},
   "source": [
    "Define the loss and optimization functions to use. Using mean-squared and gradient descent."
   ]
  },
  {
   "cell_type": "code",
   "execution_count": 4,
   "metadata": {},
   "outputs": [],
   "source": [
    "loss(x,y) = Flux.mse(m(x), y)\n",
    "ps = Flux.params(m)\n",
    "opt = Descent(0.1)\n",
    ";"
   ]
  },
  {
   "cell_type": "markdown",
   "metadata": {},
   "source": [
    "Train the network using the built in function\n",
    "\n",
    "It looks like it trains for one single touple and then fails.... WHY??"
   ]
  },
  {
   "cell_type": "code",
   "execution_count": 5,
   "metadata": {},
   "outputs": [
    {
     "name": "stdout",
     "output_type": "stream",
     "text": [
      "0.19319297323901657 (tracked)\n",
      "0.25091391124580575 (tracked)\n",
      "0.31315604548375575 (tracked)\n",
      "0.5141269924866396 (tracked)\n",
      "1.2808547037681275 (tracked)\n",
      "3.7133187184256204 (tracked)\n",
      "6.054390207417623 (tracked)\n",
      "7.759518856735535 (tracked)\n",
      "8.513144712188769 (tracked)\n",
      "7.588006699970298 (tracked)\n",
      "5.404003427691151 (tracked)\n",
      "2.3997743526426527 (tracked)\n",
      "0.85738317840988 (tracked)\n",
      "0.3746783777064454 (tracked)\n",
      "0.6108823991473933 (tracked)\n",
      "1.7599103585065623 (tracked)\n",
      "4.080225979311348 (tracked)\n",
      "6.135394419854081 (tracked)\n",
      "7.960183777775004 (tracked)\n",
      "8.409283633920397 (tracked)\n",
      "7.180752041466035 (tracked)\n",
      "4.521887659530339 (tracked)\n",
      "1.9218930117934572 (tracked)\n",
      "0.571978752202634 (tracked)\n",
      "0.3865627637801927 (tracked)\n",
      "0.9366173601674506 (tracked)\n",
      "3.3465814254864714 (tracked)\n",
      "6.14897033243989 (tracked)\n",
      "7.8684629287356636 (tracked)\n",
      "8.320243023551525 (tracked)\n",
      "6.948483855979205 (tracked)\n",
      "4.515330342916984 (tracked)\n",
      "1.924476676262423 (tracked)\n",
      "0.5909579119303217 (tracked)\n",
      "0.39383507069889584 (tracked)\n",
      "0.9691107525164349 (tracked)\n",
      "3.4320913756294154 (tracked)\n",
      "6.488199586242139 (tracked)\n",
      "7.99844830132635 (tracked)\n",
      "8.075381555463306 (tracked)\n",
      "6.2337621871907825 (tracked)\n",
      "3.399240552082694 (tracked)\n",
      "1.2850490070536602 (tracked)\n",
      "0.44556205547669514 (tracked)\n",
      "0.5440655716246112 (tracked)\n",
      "1.5046755652197916 (tracked)\n",
      "3.6293724856538336 (tracked)\n",
      "5.893379002751487 (tracked)\n",
      "7.532392397975334 (tracked)\n",
      "8.291410160457477 (tracked)\n",
      "7.211721790523937 (tracked)\n",
      "4.9381535436763375 (tracked)\n",
      "2.2671489293643172 (tracked)\n",
      "0.7693086145897535 (tracked)\n",
      "0.3971491828275538 (tracked)\n",
      "0.8427339926466266 (tracked)\n",
      "2.7860008645161383 (tracked)\n",
      "5.127827387273008 (tracked)\n",
      "6.907247276028224 (tracked)\n",
      "8.107982239998965 (tracked)\n",
      "7.9249091706540185 (tracked)\n",
      "5.832790652134354 (tracked)\n",
      "3.1436994150934567 (tracked)\n",
      "1.218860162182222 (tracked)\n",
      "0.4437512898411545 (tracked)\n",
      "0.5754473536847171 (tracked)\n",
      "1.5989363079464711 (tracked)\n",
      "3.7714482318457683 (tracked)\n",
      "5.874602379883144 (tracked)\n",
      "7.55065146183058 (tracked)\n",
      "8.27948475352602 (tracked)\n",
      "7.199161299474511 (tracked)\n",
      "4.918338378511378 (tracked)\n",
      "2.253901634241239 (tracked)\n",
      "0.7623967742897455 (tracked)\n",
      "0.399896738443782 (tracked)\n",
      "0.8664817369658102 (tracked)\n",
      "2.8801682590367044 (tracked)\n",
      "5.23046320919796 (tracked)\n",
      "6.959351559107719 (tracked)\n",
      "8.121191230245323 (tracked)\n",
      "7.826039653983252 (tracked)\n",
      "5.524275780881144 (tracked)\n",
      "2.2813522706230835 (tracked)\n",
      "0.7255585792329431 (tracked)\n"
     ]
    }
   ],
   "source": [
    "scatter()\n",
    "for i = 1:(length(sol) - 1)\n",
    "    x = sol[i]\n",
    "    y = sol[i+1]\n",
    "    l = loss(m(x), y)\n",
    "    \n",
    "    println(l)\n",
    "    #Flux.train!(loss,ps,[data[i]],opt,cb = () -> println(\"Training\"))\n",
    "end"
   ]
  },
  {
   "cell_type": "markdown",
   "metadata": {},
   "source": [
    "Train the network using a custom algorithm"
   ]
  },
  {
   "cell_type": "code",
   "execution_count": null,
   "metadata": {},
   "outputs": [],
   "source": []
  }
 ],
 "metadata": {
  "kernelspec": {
   "display_name": "Julia 1.0.3",
   "language": "julia",
   "name": "julia-1.0"
  },
  "language_info": {
   "file_extension": ".jl",
   "mimetype": "application/julia",
   "name": "julia",
   "version": "1.0.3"
  }
 },
 "nbformat": 4,
 "nbformat_minor": 2
}
